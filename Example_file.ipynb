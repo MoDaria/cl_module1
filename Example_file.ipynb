{
 "cells": [
  {
   "attachments": {},
   "cell_type": "markdown",
   "metadata": {},
   "source": [
    "**База ссылок**\n",
    "\n",
    "2019/01/01,\"['https://lenta.ru/articles/2019/01/01/analog_poka', 'https://lenta.ru/articles/2019/01/01/parisparis', 'https://lenta.ru/photo/2019/01/01/new_cosmetics', 'https://lenta.ru/articles/2019/01/01/karmanov', 'https://lenta.ru/news/2019/01/01/film', 'https://lenta.ru/news/2019/01/01/most', 'https://lenta.ru/news/2019/01/01/most_2', 'https://lenta.ru/news/2019/01/01/zelenskiy', 'https://lenta.ru/news/2019/01/01/knife', 'https://lenta.ru/news/2019/01/01/pentagon', 'https://lenta.ru/news/2019/01/01/xvii_century', 'https://lenta.ru/news/2019/01/01/ne_vredno', 'https://lenta.ru/news/2019/01/01/lukashenko', 'https://lenta.ru/news/2019/01/01/klimkin', 'https://lenta.ru/news/2019/01/01/bomb', 'https://lenta.ru/news/2019/01/01/more', 'https://lenta.ru/news/2019/01/01/otsenka', 'https://lenta.ru/news/2019/01/01/ultima', 'https://lenta.ru/news/2019/01/01/proverka', 'https://lenta.ru/news/2019/01/01/pobeda', 'https://lenta.ru/news/2019/01/01/ostanovili', 'https://lenta.ru/news/2019/01/01/bragin_sim', 'https://lenta.ru/news/2019/01/01/kim', 'https://lenta.ru/news/2019/01/01/ban_rusada', 'https://lenta.ru/news/2019/01/01/kurili', 'https://lenta.ru/news/2019/01/01/tula', 'https://lenta.ru/news/2019/01/01/mac_may', 'https://lenta.ru/news/2019/01/01/zvuk', 'https://lenta.ru/news/2019/01/01/gorky', 'https://lenta.ru/news/2019/01/01/video', 'https://lenta.ru/news/2019/01/01/podr', 'https://lenta.ru/news/2019/01/01/ustugov', 'https://lenta.ru/news/2019/01/01/moscou', 'https://lenta.ru/news/2019/01/01/debosh', 'https://lenta.ru/news/2019/01/01/shpion', 'https://lenta.ru/news/2019/01/01/saprykin', 'https://lenta.ru/news/2019/01/01/germany', 'https://lenta.ru/news/2019/01/01/eight', 'https://lenta.ru/news/2019/01/01/chal_akhmet', 'https://lenta.ru/news/2019/01/01/albaz', 'https://lenta.ru/news/2019/01/01/putin', 'https://lenta.ru/news/2019/01/01/bandera1', 'https://lenta.ru/news/2019/01/01/white_rematch', 'https://lenta.ru/news/2019/01/01/bach_russia', 'https://lenta.ru/news/2019/01/01/vylet', 'https://lenta.ru/news/2019/01/01/explosion', 'https://lenta.ru/news/2019/01/01/troe', 'https://lenta.ru/news/2019/01/01/avtobus']\""
   ]
  },
  {
   "cell_type": "markdown",
   "metadata": {},
   "source": [
    "**База HTML страниц  в .txt**\n",
    "<p>Более комплексная оценка показывает, что прогнозы Минкомсвязи слишком оптимистичны. В реальности без телевидения <a href=\"https://lenta.ru/news/2018/10/31/digital_detox/\" target=\"_blank\">могут остаться</a> до 33,7 миллиона семей. Именно столько телевизоров в России, по подсчетам представителей индустрии, не могут принимать цифровой сигнал.</p><aside class=\"b-box b-box_floated b-text-box b-box_right b-text-box_wide-01\"><div class=\"b-text-box__wrap\"><div class=\"b-text clearfix js-topic__text\" itemprop=\"articleBody\"><p>Отчет составлен по запросу Минпромторга. В качестве экспертов привлекались Российская ассоциация торговых компаний и товаропроизводителей электробытовой и компьютерной техники (РАТЭК), предприятие «Московский научно-исследовательский телевизионный институт» (МНИТИ), производитель ТВ-приставок GS-Group. </p> <...>"
   ]
  },
  {
   "cell_type": "markdown",
   "metadata": {},
   "source": [
    "**Достала статьи  и названия категорий и сформировала текстовую базу с первичной обработкой**\n",
    "\n",
    "\n",
    "В  году россиян ждут большие перемены вся страна переходит с аналогового телевизионного сигнала на цифровой Казалось бы хорошие новости ведь весь телевизионный треш и пропаганду россияне смогут смотреть в наилучшем качестве Но есть нюанс За пару месяцев до запланированного перехода на цифру оказалось что изза инноваций часть россиян вовсе останется без телевидения Как это произошло и можно ли с этим чтото поделать разбиралась   Лентару У владельцев телевизоров нового поколения проблем не возникнет <...>"
   ]
  },
  {
   "cell_type": "markdown",
   "metadata": {},
   "source": [
    "**Дополнительный список стоп-слов из Частотного словаря**\n",
    "\n",
    "'и', 'с', 'опять', 'который', 'около', 'мы', 'раз', 'под', 'а', 'ведь', 'как', 'от', 'прямо', 'всегда', 'хорошо', 'об', 'хоть', 'им', 'перед', 'был', 'разве'"
   ]
  },
  {
   "cell_type": "markdown",
   "metadata": {},
   "source": [
    "**Лемматизировала каждый файл с текстами по категориям**\n",
    "\n",
    "след\n",
    "взрывчатка\n",
    "обрушение\n",
    "дом\n",
    "центр\n",
    "магнитогорск\n",
    "обнаружить\n",
    "говориться\n",
    "заявление\n",
    "официальный\n",
    "представитель\n",
    "следственный\n",
    "комитет\n",
    "светлана\n",
    "петренко\n",
    "сайт\n",
    "ведомство"
   ]
  },
  {
   "cell_type": "markdown",
   "metadata": {},
   "source": [
    "**Собрала топ-100 частотных слов по каждой категории**"
   ]
  },
  {
   "cell_type": "markdown",
   "metadata": {},
   "source": [
    "Word,Frequency\n",
    "\n",
    "россия,0.00554\n",
    "\n",
    "сотрудник,0.00531\n",
    "\n",
    "задержать,0.00492\n",
    "\n",
    "суд,0.00473\n",
    "\n",
    "уголовный,0.00435\n",
    "\n",
    "рубль,0.00390\n",
    "\n",
    "убийство,0.00375\n",
    "\n",
    "сообщить,0.00367\n",
    "\n",
    "москва,0.00360\n"
   ]
  }
 ],
 "metadata": {
  "kernelspec": {
   "display_name": "Python 3",
   "language": "python",
   "name": "python3"
  },
  "language_info": {
   "codemirror_mode": {
    "name": "ipython",
    "version": 3
   },
   "file_extension": ".py",
   "mimetype": "text/x-python",
   "name": "python",
   "nbconvert_exporter": "python",
   "pygments_lexer": "ipython3",
   "version": "3.7.4"
  }
 },
 "nbformat": 4,
 "nbformat_minor": 4
}
